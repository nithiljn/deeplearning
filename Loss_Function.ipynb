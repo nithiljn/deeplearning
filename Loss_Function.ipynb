{
 "cells": [
  {
   "cell_type": "markdown",
   "id": "1df48ffa-04d9-4184-8ab6-e7452aac1f36",
   "metadata": {},
   "source": [
    "**Mean Absalute error**"
   ]
  },
  {
   "cell_type": "code",
   "execution_count": 1,
   "id": "0eb77b5f-9aaa-4aa3-8f68-6cb64453f725",
   "metadata": {},
   "outputs": [],
   "source": [
    "import numpy as np "
   ]
  },
  {
   "cell_type": "code",
   "execution_count": 3,
   "id": "5aec29f3-1b8c-4874-8237-4bb52b3db449",
   "metadata": {},
   "outputs": [],
   "source": [
    "y_p = np.array([1,1,0,0,1])\n",
    "y_t = np.array([0.30,0.7,1,0,0.5])"
   ]
  },
  {
   "cell_type": "code",
   "execution_count": 14,
   "id": "2450d3c8-c7f9-4e56-996e-d46f813703dc",
   "metadata": {},
   "outputs": [],
   "source": [
    "def mae(y_predicted, y_true):\n",
    "    total_error = 0\n",
    "    for yp, yt in zip(y_predicted, y_true):\n",
    "        total_error += abs(yp - yt)\n",
    "    print(\"Total error is:\",total_error)\n",
    "    mae = total_error/len(y_predicted)\n",
    "    print(\"Mean absolute error is:\",mae)\n",
    "    return mae"
   ]
  },
  {
   "cell_type": "code",
   "execution_count": 15,
   "id": "5558ab40-8a10-4db2-b1b8-5da4f2478f5a",
   "metadata": {},
   "outputs": [
    {
     "name": "stdout",
     "output_type": "stream",
     "text": [
      "Total error is: 2.5\n",
      "Mean absolute error is: 0.5\n"
     ]
    },
    {
     "data": {
      "text/plain": [
       "0.5"
      ]
     },
     "execution_count": 15,
     "metadata": {},
     "output_type": "execute_result"
    }
   ],
   "source": [
    "mae(y_predicted, y_true)"
   ]
  },
  {
   "cell_type": "code",
   "execution_count": 17,
   "id": "8f3ee011-26d8-418c-bf75-057f8825c4c1",
   "metadata": {},
   "outputs": [
    {
     "data": {
      "text/plain": [
       "array([0.7, 0.3, 1. , 0. , 0.5])"
      ]
     },
     "execution_count": 17,
     "metadata": {},
     "output_type": "execute_result"
    }
   ],
   "source": [
    "np.abs(y_predicted- y_true)"
   ]
  },
  {
   "cell_type": "code",
   "execution_count": 18,
   "id": "d8ff544c-4571-414b-9603-324b97c82152",
   "metadata": {},
   "outputs": [
    {
     "data": {
      "text/plain": [
       "0.5"
      ]
     },
     "execution_count": 18,
     "metadata": {},
     "output_type": "execute_result"
    }
   ],
   "source": [
    "np.mean(np.abs(y_predicted- y_true))"
   ]
  },
  {
   "cell_type": "code",
   "execution_count": 19,
   "id": "3e18a26e-3c42-4396-9d13-b06d73c36724",
   "metadata": {},
   "outputs": [
    {
     "data": {
      "text/plain": [
       "2.5"
      ]
     },
     "execution_count": 19,
     "metadata": {},
     "output_type": "execute_result"
    }
   ],
   "source": [
    "np.sum(np.abs(y_predicted- y_true))"
   ]
  },
  {
   "cell_type": "markdown",
   "id": "b3a045bc-02ce-4031-a0b2-6fab26dfd3c8",
   "metadata": {},
   "source": [
    "**Mean Square Error**"
   ]
  },
  {
   "cell_type": "code",
   "execution_count": 20,
   "id": "a39a2b60-75ff-461f-8a48-cf16feea8930",
   "metadata": {},
   "outputs": [],
   "source": [
    "def mae(y_predicted, y_true):\n",
    "    total_error = 0\n",
    "    for yp, yt in zip(y_predicted, y_true):\n",
    "        total_error += abs(yp - yt)**2\n",
    "    print(\"Total error is:\",total_error)\n",
    "    mae = total_error/len(y_predicted)\n",
    "    print(\"Mean absolute error is:\",mae)\n",
    "    return mae"
   ]
  },
  {
   "cell_type": "code",
   "execution_count": 21,
   "id": "ecc29227-a828-465c-8c01-90b1dc105a5c",
   "metadata": {},
   "outputs": [
    {
     "name": "stdout",
     "output_type": "stream",
     "text": [
      "Total error is: 1.83\n",
      "Mean absolute error is: 0.366\n"
     ]
    },
    {
     "data": {
      "text/plain": [
       "0.366"
      ]
     },
     "execution_count": 21,
     "metadata": {},
     "output_type": "execute_result"
    }
   ],
   "source": [
    "mae(y_predicted, y_true)"
   ]
  },
  {
   "cell_type": "code",
   "execution_count": 22,
   "id": "2942b9ce-5a7e-42df-9488-2586303d5446",
   "metadata": {},
   "outputs": [
    {
     "data": {
      "text/plain": [
       "0.366"
      ]
     },
     "execution_count": 22,
     "metadata": {},
     "output_type": "execute_result"
    }
   ],
   "source": [
    "np.mean(np.abs(y_predicted- y_true)**2)"
   ]
  },
  {
   "cell_type": "code",
   "execution_count": 23,
   "id": "de579d82-1f19-448f-a607-da52e2ad14fe",
   "metadata": {},
   "outputs": [
    {
     "data": {
      "text/plain": [
       "1.83"
      ]
     },
     "execution_count": 23,
     "metadata": {},
     "output_type": "execute_result"
    }
   ],
   "source": [
    "np.sum(np.abs(y_predicted- y_true)**2)"
   ]
  },
  {
   "cell_type": "code",
   "execution_count": 24,
   "id": "a6863f44-1531-48bb-a20a-ca38db1005fd",
   "metadata": {},
   "outputs": [
    {
     "data": {
      "text/plain": [
       "0.366"
      ]
     },
     "execution_count": 24,
     "metadata": {},
     "output_type": "execute_result"
    }
   ],
   "source": [
    "np.mean(np.square(y_predicted- y_true))"
   ]
  },
  {
   "cell_type": "code",
   "execution_count": null,
   "id": "d0b32b6b-93ca-4936-b56b-05e4c5123b09",
   "metadata": {},
   "outputs": [],
   "source": []
  }
 ],
 "metadata": {
  "kernelspec": {
   "display_name": "Python 3 (ipykernel)",
   "language": "python",
   "name": "python3"
  },
  "language_info": {
   "codemirror_mode": {
    "name": "ipython",
    "version": 3
   },
   "file_extension": ".py",
   "mimetype": "text/x-python",
   "name": "python",
   "nbconvert_exporter": "python",
   "pygments_lexer": "ipython3",
   "version": "3.11.7"
  }
 },
 "nbformat": 4,
 "nbformat_minor": 5
}
