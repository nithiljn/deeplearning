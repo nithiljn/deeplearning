{
 "cells": [
  {
   "cell_type": "markdown",
   "id": "6349b67d-9a48-4882-99af-a0e2854395b7",
   "metadata": {},
   "source": [
    "**Dervative**\n",
    "\n"
   ]
  },
  {
   "cell_type": "code",
   "execution_count": 2,
   "id": "d8365e74-1a49-45c1-80c1-8c8142db0a4c",
   "metadata": {},
   "outputs": [
    {
     "name": "stdout",
     "output_type": "stream",
     "text": [
      "Function:  sin(x)**2\n",
      "Derivative:  2*sin(x)*cos(x)\n"
     ]
    }
   ],
   "source": [
    "import sympy as sp\n",
    "x = sp.symbols('x')\n",
    "f = sp.sin(x) * sp.sin(x)\n",
    "f_prime = sp.diff(f, x)\n",
    "print(f\"Function: \",f)\n",
    "print(f\"Derivative: \",f_prime)\n"
   ]
  },
  {
   "cell_type": "code",
   "execution_count": 6,
   "id": "0f219cf1-a30b-45cf-8ae1-b7c931b25204",
   "metadata": {},
   "outputs": [
    {
     "name": "stdout",
     "output_type": "stream",
     "text": [
      "Function: (x - 2)*(x + 5)\n",
      "Derivative: 2*x + 3\n"
     ]
    }
   ],
   "source": [
    "x = sp.symbols('x')\n",
    "f = (x + 5) * (x - 2)\n",
    "f_prime = sp.diff(f, x)\n",
    "\n",
    "# Print the function and its derivative\n",
    "print(f\"Function: {f}\")\n",
    "print(f\"Derivative: {f_prime}\")\n"
   ]
  },
  {
   "cell_type": "code",
   "execution_count": null,
   "id": "3db9f52b-06b2-4324-a818-d9610b9ebe9f",
   "metadata": {},
   "outputs": [],
   "source": [
    "import sympy as sp\n",
    "\n",
    "# Define the variable\n",
    "x = sp.symbols('x')\n",
    "\n",
    "# Define the functions\n",
    "f1 = 7 * x**5\n",
    "f2 = 9**2  # This is a constant\n",
    "\n",
    "# Compute the derivatives\n",
    "f1_prime = sp.diff(f1, x)\n",
    "f2_prime = sp.diff(f2, x)\n",
    "\n",
    "# Print the functions and their derivatives\n",
    "print(f\"Function 1: {f1}\")\n",
    "print(f\"Derivative of Function 1: {f1_prime}\")\n",
    "print(f\"Function 2: {f2}\")\n",
    "print(f\"Derivative of Function 2: {f2_prime}\")\n"
   ]
  }
 ],
 "metadata": {
  "kernelspec": {
   "display_name": "Python 3 (ipykernel)",
   "language": "python",
   "name": "python3"
  },
  "language_info": {
   "codemirror_mode": {
    "name": "ipython",
    "version": 3
   },
   "file_extension": ".py",
   "mimetype": "text/x-python",
   "name": "python",
   "nbconvert_exporter": "python",
   "pygments_lexer": "ipython3",
   "version": "3.11.7"
  }
 },
 "nbformat": 4,
 "nbformat_minor": 5
}
