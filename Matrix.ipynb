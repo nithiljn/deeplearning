{
 "cells": [
  {
   "cell_type": "code",
   "execution_count": 1,
   "id": "3b0038dc-c86b-447e-a7ce-403d0bf02ced",
   "metadata": {},
   "outputs": [],
   "source": [
    "import numpy as np "
   ]
  },
  {
   "cell_type": "code",
   "execution_count": 5,
   "id": "4a8e18cd-c2e8-47a7-a2aa-e44e69794022",
   "metadata": {},
   "outputs": [],
   "source": [
    "revenue = np.array([[200,220,250],[68,79,105],[105,140,180],[180,85,90]])\n",
    "indian_rupes = np.array([75,75,75])"
   ]
  },
  {
   "cell_type": "code",
   "execution_count": 6,
   "id": "20f69605-0c35-45e4-98f5-914f0d70b8ab",
   "metadata": {},
   "outputs": [],
   "source": [
    "con_to_ind = revenue * indian_rupes"
   ]
  },
  {
   "cell_type": "code",
   "execution_count": 7,
   "id": "4c583dd6-eab3-479a-b9f6-a0223848e6a7",
   "metadata": {},
   "outputs": [
    {
     "data": {
      "text/plain": [
       "array([[15000, 16500, 18750],\n",
       "       [ 5100,  5925,  7875],\n",
       "       [ 7875, 10500, 13500],\n",
       "       [13500,  6375,  6750]])"
      ]
     },
     "execution_count": 7,
     "metadata": {},
     "output_type": "execute_result"
    }
   ],
   "source": [
    "con_to_ind "
   ]
  },
  {
   "cell_type": "code",
   "execution_count": null,
   "id": "efd175f9-b5af-49a5-a335-61236696e2a5",
   "metadata": {},
   "outputs": [],
   "source": []
  }
 ],
 "metadata": {
  "kernelspec": {
   "display_name": "Python 3 (ipykernel)",
   "language": "python",
   "name": "python3"
  },
  "language_info": {
   "codemirror_mode": {
    "name": "ipython",
    "version": 3
   },
   "file_extension": ".py",
   "mimetype": "text/x-python",
   "name": "python",
   "nbconvert_exporter": "python",
   "pygments_lexer": "ipython3",
   "version": "3.11.7"
  }
 },
 "nbformat": 4,
 "nbformat_minor": 5
}
